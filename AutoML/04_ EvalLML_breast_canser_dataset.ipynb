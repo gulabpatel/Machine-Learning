{
  "nbformat": 4,
  "nbformat_minor": 0,
  "metadata": {
    "kernelspec": {
      "display_name": "Python 3",
      "language": "python",
      "name": "python3"
    },
    "language_info": {
      "codemirror_mode": {
        "name": "ipython",
        "version": 3
      },
      "file_extension": ".py",
      "mimetype": "text/x-python",
      "name": "python",
      "nbconvert_exporter": "python",
      "pygments_lexer": "ipython3",
      "version": "3.8.5"
    },
    "colab": {
      "name": "EvalLML_breast_canser_dataset.ipynb",
      "provenance": [],
      "include_colab_link": true
    },
    "widgets": {
      "application/vnd.jupyter.widget-state+json": {
        "6d6ff1493b38449e973abc255d58b3be": {
          "model_module": "plotlywidget",
          "model_name": "FigureModel",
          "state": {
            "_view_name": "FigureView",
            "_py2js_animate": {},
            "_py2js_removeLayoutProps": {},
            "_last_trace_edit_id": 37,
            "_view_module": "plotlywidget",
            "_model_module_version": "^4.14.3",
            "_view_count": 0,
            "_js2py_relayout": {},
            "_py2js_moveTraces": {},
            "_py2js_addTraces": {},
            "_model_module": "plotlywidget",
            "_py2js_relayout": null,
            "_js2py_pointsCallback": {},
            "_js2py_update": {},
            "_js2py_restyle": {},
            "_py2js_removeTraceProps": {},
            "_py2js_deleteTraces": {},
            "_dom_classes": [],
            "_model_name": "FigureModel",
            "_layout": {
              "yaxis": {
                "title": {
                  "text": "Score"
                }
              },
              "xaxis": {
                "title": {
                  "text": "Iteration"
                },
                "rangemode": "tozero"
              },
              "title": {
                "text": "Pipeline Search: Iteration vs. Log Loss Binary<br><sub>Gray marker indicates the score at current iteration</sub>"
              }
            },
            "_js2py_layoutDelta": {},
            "_py2js_update": null,
            "_data": [
              {
                "uid": "8286f0a9-67b5-41f6-baf7-7be83c86531c",
                "mode": "lines+markers",
                "y": [],
                "x": [],
                "type": "scatter",
                "name": "Best Score"
              },
              {
                "name": "Iter score",
                "y": [],
                "mode": "markers",
                "marker": {
                  "color": "gray"
                },
                "x": [],
                "type": "scatter",
                "uid": "3f025e18-6a08-47f5-9470-e3489e1e353b"
              }
            ],
            "_config": {
              "plotlyServerURL": "https://plot.ly"
            },
            "_py2js_restyle": null,
            "_view_module_version": "^4.14.3",
            "_last_layout_edit_id": 37,
            "_js2py_traceDeltas": {}
          }
        },
        "bdee91d9abaf4039a50976737a64a9ce": {
          "model_module": "plotlywidget",
          "model_name": "FigureModel",
          "state": {
            "_view_name": "FigureView",
            "_py2js_animate": {},
            "_py2js_removeLayoutProps": {},
            "_last_trace_edit_id": 37,
            "_view_module": "plotlywidget",
            "_model_module_version": "^4.14.3",
            "_view_count": 0,
            "_js2py_relayout": {},
            "_py2js_moveTraces": {},
            "_py2js_addTraces": {},
            "_model_module": "plotlywidget",
            "_py2js_relayout": null,
            "_js2py_pointsCallback": {},
            "_js2py_update": {},
            "_js2py_restyle": {},
            "_py2js_removeTraceProps": {},
            "_py2js_deleteTraces": {},
            "_dom_classes": [],
            "_model_name": "FigureModel",
            "_layout": {
              "yaxis": {
                "title": {
                  "text": "Score"
                }
              },
              "xaxis": {
                "title": {
                  "text": "Iteration"
                },
                "rangemode": "tozero"
              },
              "title": {
                "text": "Pipeline Search: Iteration vs. AUC<br><sub>Gray marker indicates the score at current iteration</sub>"
              }
            },
            "_js2py_layoutDelta": {},
            "_py2js_update": null,
            "_data": [
              {
                "uid": "09d519d5-c04e-4823-b36c-4fddd0ad5e08",
                "mode": "lines+markers",
                "y": [],
                "x": [],
                "type": "scatter",
                "name": "Best Score"
              },
              {
                "name": "Iter score",
                "y": [],
                "mode": "markers",
                "marker": {
                  "color": "gray"
                },
                "x": [],
                "type": "scatter",
                "uid": "4318f70e-117b-486a-8867-4cb14070c94a"
              }
            ],
            "_config": {
              "plotlyServerURL": "https://plot.ly"
            },
            "_py2js_restyle": null,
            "_view_module_version": "^4.14.3",
            "_last_layout_edit_id": 37,
            "_js2py_traceDeltas": {}
          }
        }
      }
    }
  },
  "cells": [
    {
      "cell_type": "markdown",
      "metadata": {
        "id": "view-in-github",
        "colab_type": "text"
      },
      "source": [
        "<a href=\"https://colab.research.google.com/github/gulabpatel/AutoML/blob/main/EvalLML_breast_canser_dataset.ipynb\" target=\"_parent\"><img src=\"https://colab.research.google.com/assets/colab-badge.svg\" alt=\"Open In Colab\"/></a>"
      ]
    },
    {
      "cell_type": "markdown",
      "metadata": {
        "id": "8R3FUqkMqUQ5"
      },
      "source": [
        "![image.png](data:image/png;base64,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)"
      ]
    },
    {
      "cell_type": "markdown",
      "metadata": {
        "id": "vUTzpfygrtog"
      },
      "source": [
        "EvalML AutoML Library To Automate Feature Engineering, Feature Selection,Model Creation And Tuning\n",
        "\n",
        "\n",
        "Documentation : https://evalml.alteryx.com/en/stable/\n",
        "\n",
        "Video help i available on : https://www.youtube.com/watch?v=uuYEQqrExBQ&t=6s"
      ]
    },
    {
      "cell_type": "code",
      "metadata": {
        "id": "CsShkDIoqURa",
        "colab": {
          "base_uri": "https://localhost:8080/",
          "height": 1000
        },
        "outputId": "37db5193-7995-4cd9-952d-335236b8ce4e"
      },
      "source": [
        "!pip install evalml"
      ],
      "execution_count": 1,
      "outputs": [
        {
          "output_type": "stream",
          "text": [
            "Collecting evalml\n",
            "\u001b[?25l  Downloading https://files.pythonhosted.org/packages/b3/35/a4362aab8181c79c63234b267365270d4fa7b535ed7430b07ebded147745/evalml-0.22.0-py3-none-any.whl (6.2MB)\n",
            "\u001b[K     |████████████████████████████████| 6.2MB 4.6MB/s \n",
            "\u001b[?25hCollecting imbalanced-learn>=0.7.0\n",
            "\u001b[?25l  Downloading https://files.pythonhosted.org/packages/80/98/dc784205a7e3034e84d41ac4781660c67ad6327f2f5a80c568df31673d1c/imbalanced_learn-0.8.0-py3-none-any.whl (206kB)\n",
            "\u001b[K     |████████████████████████████████| 215kB 43.9MB/s \n",
            "\u001b[?25hCollecting nlp-primitives>=1.1.0\n",
            "\u001b[?25l  Downloading https://files.pythonhosted.org/packages/a0/b8/c5465a6ed6d5fce76703e62d60fde588cee1af65a8a3d7340b26e1a1c290/nlp_primitives-1.1.0-py3-none-any.whl (18.0MB)\n",
            "\u001b[K     |████████████████████████████████| 18.0MB 217kB/s \n",
            "\u001b[?25hCollecting plotly>=4.14.0\n",
            "\u001b[?25l  Downloading https://files.pythonhosted.org/packages/1f/f6/bd3c17c8003b6641df1228e80e1acac97ed8402635e46c2571f8e1ef63af/plotly-4.14.3-py2.py3-none-any.whl (13.2MB)\n",
            "\u001b[K     |████████████████████████████████| 13.2MB 175kB/s \n",
            "\u001b[?25hRequirement already satisfied: seaborn>=0.11.1 in /usr/local/lib/python3.7/dist-packages (from evalml) (0.11.1)\n",
            "Collecting statsmodels>=0.12.2\n",
            "\u001b[?25l  Downloading https://files.pythonhosted.org/packages/da/69/8eef30a6237c54f3c0b524140e2975f4b1eea3489b45eb3339574fc8acee/statsmodels-0.12.2-cp37-cp37m-manylinux1_x86_64.whl (9.5MB)\n",
            "\u001b[K     |████████████████████████████████| 9.5MB 22.9MB/s \n",
            "\u001b[?25hCollecting category-encoders>=2.0.0\n",
            "\u001b[?25l  Downloading https://files.pythonhosted.org/packages/44/57/fcef41c248701ee62e8325026b90c432adea35555cbc870aff9cfba23727/category_encoders-2.2.2-py2.py3-none-any.whl (80kB)\n",
            "\u001b[K     |████████████████████████████████| 81kB 9.5MB/s \n",
            "\u001b[?25hCollecting woodwork==0.0.11\n",
            "\u001b[?25l  Downloading https://files.pythonhosted.org/packages/5c/eb/6846fe1b8846a5dc0f1d38bf48d1172517da396334e773a155b9e73fa609/woodwork-0.0.11-py3-none-any.whl (91kB)\n",
            "\u001b[K     |████████████████████████████████| 92kB 10.5MB/s \n",
            "\u001b[?25hRequirement already satisfied: scipy>=1.2.1 in /usr/local/lib/python3.7/dist-packages (from evalml) (1.4.1)\n",
            "Collecting requirements-parser>=0.2.0\n",
            "  Downloading https://files.pythonhosted.org/packages/03/80/eb6ba1dd0429089436e90e556db50884ea21da060b10f2e5668c4cac99da/requirements-parser-0.2.0.tar.gz\n",
            "Collecting graphviz>=0.13\n",
            "  Downloading https://files.pythonhosted.org/packages/86/86/89ba50ba65928001d3161f23bfa03945ed18ea13a1d1d44a772ff1fa4e7a/graphviz-0.16-py2.py3-none-any.whl\n",
            "Collecting colorama\n",
            "  Downloading https://files.pythonhosted.org/packages/44/98/5b86278fbbf250d239ae0ecb724f8572af1c91f4a11edf4d36a206189440/colorama-0.4.4-py2.py3-none-any.whl\n",
            "Requirement already satisfied: pandas>=1.1.0 in /usr/local/lib/python3.7/dist-packages (from evalml) (1.1.5)\n",
            "Requirement already satisfied: xgboost<1.3.0,>=0.82 in /usr/local/lib/python3.7/dist-packages (from evalml) (0.90)\n",
            "Collecting texttable>=1.6.2\n",
            "  Downloading https://files.pythonhosted.org/packages/06/f5/46201c428aebe0eecfa83df66bf3e6caa29659dbac5a56ddfd83cae0d4a4/texttable-1.6.3-py2.py3-none-any.whl\n",
            "Requirement already satisfied: numpy>=1.19.1 in /usr/local/lib/python3.7/dist-packages (from evalml) (1.19.5)\n",
            "Collecting sktime>=0.5.3; python_version < \"3.9\"\n",
            "\u001b[?25l  Downloading https://files.pythonhosted.org/packages/cb/da/50152302ec50c4be412f028edd9173b66121ed7af80473cca47ef6eae65b/sktime-0.5.3-cp37-cp37m-manylinux2014_x86_64.whl (5.7MB)\n",
            "\u001b[K     |████████████████████████████████| 5.7MB 37.0MB/s \n",
            "\u001b[?25hCollecting lightgbm<3.1.0,>=2.3.1\n",
            "\u001b[?25l  Downloading https://files.pythonhosted.org/packages/25/47/f8ef524e15ff86f5246cb4e1cee200b747ddb2536429fa021cc5f17ea40a/lightgbm-3.0.0-py2.py3-none-manylinux1_x86_64.whl (1.7MB)\n",
            "\u001b[K     |████████████████████████████████| 1.8MB 37.5MB/s \n",
            "\u001b[?25hRequirement already satisfied: ipywidgets>=7.5 in /usr/local/lib/python3.7/dist-packages (from evalml) (7.6.3)\n",
            "Collecting shap>=0.35.0\n",
            "\u001b[?25l  Downloading https://files.pythonhosted.org/packages/b9/f4/c5b95cddae15be80f8e58b25edceca105aa83c0b8c86a1edad24a6af80d3/shap-0.39.0.tar.gz (356kB)\n",
            "\u001b[K     |████████████████████████████████| 358kB 45.4MB/s \n",
            "\u001b[?25hCollecting psutil>=5.6.3\n",
            "\u001b[?25l  Downloading https://files.pythonhosted.org/packages/84/da/f7efdcf012b51506938553dbe302aecc22f3f43abd5cffa8320e8e0588d5/psutil-5.8.0-cp37-cp37m-manylinux2010_x86_64.whl (296kB)\n",
            "\u001b[K     |████████████████████████████████| 296kB 45.7MB/s \n",
            "\u001b[?25hCollecting kaleido>=0.1.0\n",
            "\u001b[?25l  Downloading https://files.pythonhosted.org/packages/ae/b3/a0f0f4faac229b0011d8c4a7ee6da7c2dca0b6fd08039c95920846f23ca4/kaleido-0.2.1-py2.py3-none-manylinux1_x86_64.whl (79.9MB)\n",
            "\u001b[K     |████████████████████████████████| 79.9MB 117kB/s \n",
            "\u001b[?25hCollecting scikit-learn>=0.23.1\n",
            "\u001b[?25l  Downloading https://files.pythonhosted.org/packages/f3/74/eb899f41d55f957e2591cde5528e75871f817d9fb46d4732423ecaca736d/scikit_learn-0.24.1-cp37-cp37m-manylinux2010_x86_64.whl (22.3MB)\n",
            "\u001b[K     |████████████████████████████████| 22.3MB 66.0MB/s \n",
            "\u001b[?25hCollecting pyzmq<22.0.0\n",
            "\u001b[?25l  Downloading https://files.pythonhosted.org/packages/b2/20/ba6fd6cb14c3f7ef415b9666aab11042b4878c0c1c9c01ec2a5ae97b11fd/pyzmq-21.0.2-cp37-cp37m-manylinux1_x86_64.whl (6.7MB)\n",
            "\u001b[K     |████████████████████████████████| 6.7MB 40.4MB/s \n",
            "\u001b[?25hRequirement already satisfied: click>=7.0.0 in /usr/local/lib/python3.7/dist-packages (from evalml) (7.1.2)\n",
            "Requirement already satisfied: cloudpickle>=0.2.2 in /usr/local/lib/python3.7/dist-packages (from evalml) (1.3.0)\n",
            "Collecting matplotlib>=3.3.3\n",
            "\u001b[?25l  Downloading https://files.pythonhosted.org/packages/ce/63/74c0b6184b6b169b121bb72458818ee60a7d7c436d7b1907bd5874188c55/matplotlib-3.4.1-cp37-cp37m-manylinux1_x86_64.whl (10.3MB)\n",
            "\u001b[K     |████████████████████████████████| 10.3MB 40.2MB/s \n",
            "\u001b[?25hCollecting scikit-optimize>=0.8.1\n",
            "\u001b[?25l  Downloading https://files.pythonhosted.org/packages/8b/03/be33e89f55866065a02e515c5b319304a801a9f1027a9b311a9b1d1f8dc7/scikit_optimize-0.8.1-py2.py3-none-any.whl (101kB)\n",
            "\u001b[K     |████████████████████████████████| 102kB 11.0MB/s \n",
            "\u001b[?25hCollecting catboost>=0.20\n",
            "\u001b[?25l  Downloading https://files.pythonhosted.org/packages/47/80/8e9c57ec32dfed6ba2922bc5c96462cbf8596ce1a6f5de532ad1e43e53fe/catboost-0.25.1-cp37-none-manylinux1_x86_64.whl (67.3MB)\n",
            "\u001b[K     |████████████████████████████████| 67.3MB 60kB/s \n",
            "\u001b[?25hRequirement already satisfied: networkx>=2.5 in /usr/local/lib/python3.7/dist-packages (from evalml) (2.5.1)\n",
            "Collecting featuretools>=0.20.0\n",
            "\u001b[?25l  Downloading https://files.pythonhosted.org/packages/11/d6/c29c5ec0919707e16d78acfde4cd4a31467db76df50956d2f751b8c0cfb7/featuretools-0.23.3-py3-none-any.whl (296kB)\n",
            "\u001b[K     |████████████████████████████████| 296kB 52.3MB/s \n",
            "\u001b[?25hRequirement already satisfied: joblib>=0.11 in /usr/local/lib/python3.7/dist-packages (from imbalanced-learn>=0.7.0->evalml) (1.0.1)\n",
            "Collecting nltk>=3.4.5\n",
            "\u001b[?25l  Downloading https://files.pythonhosted.org/packages/8c/1c/c0981ef85165eb739c10f2b24d7729cef066b2bc220fbd1dd0d3c67df39a/nltk-3.6.1-py3-none-any.whl (1.5MB)\n",
            "\u001b[K     |████████████████████████████████| 1.5MB 36.9MB/s \n",
            "\u001b[?25hRequirement already satisfied: retrying>=1.3.3 in /usr/local/lib/python3.7/dist-packages (from plotly>=4.14.0->evalml) (1.3.3)\n",
            "Requirement already satisfied: six in /usr/local/lib/python3.7/dist-packages (from plotly>=4.14.0->evalml) (1.15.0)\n",
            "Requirement already satisfied: patsy>=0.5 in /usr/local/lib/python3.7/dist-packages (from statsmodels>=0.12.2->evalml) (0.5.1)\n",
            "Requirement already satisfied: pytz>=2017.2 in /usr/local/lib/python3.7/dist-packages (from pandas>=1.1.0->evalml) (2018.9)\n",
            "Requirement already satisfied: python-dateutil>=2.7.3 in /usr/local/lib/python3.7/dist-packages (from pandas>=1.1.0->evalml) (2.8.1)\n",
            "Requirement already satisfied: numba>=0.50 in /usr/local/lib/python3.7/dist-packages (from sktime>=0.5.3; python_version < \"3.9\"->evalml) (0.51.2)\n",
            "Requirement already satisfied: wheel in /usr/local/lib/python3.7/dist-packages (from sktime>=0.5.3; python_version < \"3.9\"->evalml) (0.36.2)\n",
            "Requirement already satisfied: nbformat>=4.2.0 in /usr/local/lib/python3.7/dist-packages (from ipywidgets>=7.5->evalml) (5.1.3)\n",
            "Requirement already satisfied: widgetsnbextension~=3.5.0 in /usr/local/lib/python3.7/dist-packages (from ipywidgets>=7.5->evalml) (3.5.1)\n",
            "Requirement already satisfied: ipython>=4.0.0; python_version >= \"3.3\" in /usr/local/lib/python3.7/dist-packages (from ipywidgets>=7.5->evalml) (5.5.0)\n",
            "Requirement already satisfied: ipykernel>=4.5.1 in /usr/local/lib/python3.7/dist-packages (from ipywidgets>=7.5->evalml) (4.10.1)\n",
            "Requirement already satisfied: jupyterlab-widgets>=1.0.0; python_version >= \"3.6\" in /usr/local/lib/python3.7/dist-packages (from ipywidgets>=7.5->evalml) (1.0.0)\n",
            "Requirement already satisfied: traitlets>=4.3.1 in /usr/local/lib/python3.7/dist-packages (from ipywidgets>=7.5->evalml) (5.0.5)\n",
            "Requirement already satisfied: tqdm>4.25.0 in /usr/local/lib/python3.7/dist-packages (from shap>=0.35.0->evalml) (4.41.1)\n",
            "Collecting slicer==0.0.7\n",
            "  Downloading https://files.pythonhosted.org/packages/78/c2/b3f55dfdb8af9812fdb9baf70cacf3b9e82e505b2bd4324d588888b81202/slicer-0.0.7-py3-none-any.whl\n",
            "Collecting threadpoolctl>=2.0.0\n",
            "  Downloading https://files.pythonhosted.org/packages/f7/12/ec3f2e203afa394a149911729357aa48affc59c20e2c1c8297a60f33f133/threadpoolctl-2.1.0-py3-none-any.whl\n",
            "Requirement already satisfied: pillow>=6.2.0 in /usr/local/lib/python3.7/dist-packages (from matplotlib>=3.3.3->evalml) (7.1.2)\n",
            "Requirement already satisfied: kiwisolver>=1.0.1 in /usr/local/lib/python3.7/dist-packages (from matplotlib>=3.3.3->evalml) (1.3.1)\n",
            "Requirement already satisfied: cycler>=0.10 in /usr/local/lib/python3.7/dist-packages (from matplotlib>=3.3.3->evalml) (0.10.0)\n",
            "Requirement already satisfied: pyparsing>=2.2.1 in /usr/local/lib/python3.7/dist-packages (from matplotlib>=3.3.3->evalml) (2.4.7)\n",
            "Collecting pyaml>=16.9\n",
            "  Downloading https://files.pythonhosted.org/packages/15/c4/1310a054d33abc318426a956e7d6df0df76a6ddfa9c66f6310274fb75d42/pyaml-20.4.0-py2.py3-none-any.whl\n",
            "Requirement already satisfied: decorator<5,>=4.3 in /usr/local/lib/python3.7/dist-packages (from networkx>=2.5->evalml) (4.4.2)\n",
            "Collecting distributed>=2.12.0\n",
            "\u001b[?25l  Downloading https://files.pythonhosted.org/packages/0c/b0/3454dc44239c526f9c9e4cf04f62823776b71f927db74302986d56e7a9a1/distributed-2021.4.0-py3-none-any.whl (684kB)\n",
            "\u001b[K     |████████████████████████████████| 686kB 42.2MB/s \n",
            "\u001b[?25hRequirement already satisfied: dask[dataframe]>=2.12.0 in /usr/local/lib/python3.7/dist-packages (from featuretools>=0.20.0->evalml) (2.12.0)\n",
            "Requirement already satisfied: pyyaml>=3.12 in /usr/local/lib/python3.7/dist-packages (from featuretools>=0.20.0->evalml) (3.13)\n",
            "Requirement already satisfied: regex in /usr/local/lib/python3.7/dist-packages (from nltk>=3.4.5->nlp-primitives>=1.1.0->evalml) (2019.12.20)\n",
            "Requirement already satisfied: llvmlite<0.35,>=0.34.0.dev0 in /usr/local/lib/python3.7/dist-packages (from numba>=0.50->sktime>=0.5.3; python_version < \"3.9\"->evalml) (0.34.0)\n",
            "Requirement already satisfied: setuptools in /usr/local/lib/python3.7/dist-packages (from numba>=0.50->sktime>=0.5.3; python_version < \"3.9\"->evalml) (54.2.0)\n",
            "Requirement already satisfied: jsonschema!=2.5.0,>=2.4 in /usr/local/lib/python3.7/dist-packages (from nbformat>=4.2.0->ipywidgets>=7.5->evalml) (2.6.0)\n",
            "Requirement already satisfied: ipython-genutils in /usr/local/lib/python3.7/dist-packages (from nbformat>=4.2.0->ipywidgets>=7.5->evalml) (0.2.0)\n",
            "Requirement already satisfied: jupyter-core in /usr/local/lib/python3.7/dist-packages (from nbformat>=4.2.0->ipywidgets>=7.5->evalml) (4.7.1)\n",
            "Requirement already satisfied: notebook>=4.4.1 in /usr/local/lib/python3.7/dist-packages (from widgetsnbextension~=3.5.0->ipywidgets>=7.5->evalml) (5.3.1)\n",
            "Requirement already satisfied: pexpect; sys_platform != \"win32\" in /usr/local/lib/python3.7/dist-packages (from ipython>=4.0.0; python_version >= \"3.3\"->ipywidgets>=7.5->evalml) (4.8.0)\n",
            "Requirement already satisfied: pygments in /usr/local/lib/python3.7/dist-packages (from ipython>=4.0.0; python_version >= \"3.3\"->ipywidgets>=7.5->evalml) (2.6.1)\n",
            "Requirement already satisfied: simplegeneric>0.8 in /usr/local/lib/python3.7/dist-packages (from ipython>=4.0.0; python_version >= \"3.3\"->ipywidgets>=7.5->evalml) (0.8.1)\n",
            "Requirement already satisfied: pickleshare in /usr/local/lib/python3.7/dist-packages (from ipython>=4.0.0; python_version >= \"3.3\"->ipywidgets>=7.5->evalml) (0.7.5)\n",
            "Requirement already satisfied: prompt-toolkit<2.0.0,>=1.0.4 in /usr/local/lib/python3.7/dist-packages (from ipython>=4.0.0; python_version >= \"3.3\"->ipywidgets>=7.5->evalml) (1.0.18)\n",
            "Requirement already satisfied: tornado>=4.0 in /usr/local/lib/python3.7/dist-packages (from ipykernel>=4.5.1->ipywidgets>=7.5->evalml) (5.1.1)\n",
            "Requirement already satisfied: jupyter-client in /usr/local/lib/python3.7/dist-packages (from ipykernel>=4.5.1->ipywidgets>=7.5->evalml) (5.3.5)\n",
            "Requirement already satisfied: zict>=0.1.3 in /usr/local/lib/python3.7/dist-packages (from distributed>=2.12.0->featuretools>=0.20.0->evalml) (2.0.0)\n",
            "Requirement already satisfied: msgpack>=0.6.0 in /usr/local/lib/python3.7/dist-packages (from distributed>=2.12.0->featuretools>=0.20.0->evalml) (1.0.2)\n",
            "Requirement already satisfied: toolz>=0.8.2 in /usr/local/lib/python3.7/dist-packages (from distributed>=2.12.0->featuretools>=0.20.0->evalml) (0.11.1)\n",
            "Requirement already satisfied: tblib>=1.6.0 in /usr/local/lib/python3.7/dist-packages (from distributed>=2.12.0->featuretools>=0.20.0->evalml) (1.7.0)\n",
            "Requirement already satisfied: sortedcontainers!=2.0.0,!=2.0.1 in /usr/local/lib/python3.7/dist-packages (from distributed>=2.12.0->featuretools>=0.20.0->evalml) (2.3.0)\n",
            "Collecting fsspec>=0.6.0; extra == \"dataframe\"\n",
            "\u001b[?25l  Downloading https://files.pythonhosted.org/packages/62/11/f7689b996f85e45f718745c899f6747ee5edb4878cadac0a41ab146828fa/fsspec-0.9.0-py3-none-any.whl (107kB)\n",
            "\u001b[K     |████████████████████████████████| 112kB 45.3MB/s \n",
            "\u001b[?25hCollecting partd>=0.3.10; extra == \"dataframe\"\n",
            "  Downloading https://files.pythonhosted.org/packages/41/94/360258a68b55f47859d72b2d0b2b3cfe0ca4fbbcb81b78812bd00ae86b7c/partd-1.2.0-py3-none-any.whl\n",
            "Requirement already satisfied: Send2Trash in /usr/local/lib/python3.7/dist-packages (from notebook>=4.4.1->widgetsnbextension~=3.5.0->ipywidgets>=7.5->evalml) (1.5.0)\n",
            "Requirement already satisfied: terminado>=0.8.1 in /usr/local/lib/python3.7/dist-packages (from notebook>=4.4.1->widgetsnbextension~=3.5.0->ipywidgets>=7.5->evalml) (0.9.4)\n",
            "Requirement already satisfied: jinja2 in /usr/local/lib/python3.7/dist-packages (from notebook>=4.4.1->widgetsnbextension~=3.5.0->ipywidgets>=7.5->evalml) (2.11.3)\n",
            "Requirement already satisfied: nbconvert in /usr/local/lib/python3.7/dist-packages (from notebook>=4.4.1->widgetsnbextension~=3.5.0->ipywidgets>=7.5->evalml) (5.6.1)\n",
            "Requirement already satisfied: ptyprocess>=0.5 in /usr/local/lib/python3.7/dist-packages (from pexpect; sys_platform != \"win32\"->ipython>=4.0.0; python_version >= \"3.3\"->ipywidgets>=7.5->evalml) (0.7.0)\n",
            "Requirement already satisfied: wcwidth in /usr/local/lib/python3.7/dist-packages (from prompt-toolkit<2.0.0,>=1.0.4->ipython>=4.0.0; python_version >= \"3.3\"->ipywidgets>=7.5->evalml) (0.2.5)\n",
            "Requirement already satisfied: heapdict in /usr/local/lib/python3.7/dist-packages (from zict>=0.1.3->distributed>=2.12.0->featuretools>=0.20.0->evalml) (1.0.1)\n",
            "Requirement already satisfied: importlib-metadata; python_version < \"3.8\" in /usr/local/lib/python3.7/dist-packages (from fsspec>=0.6.0; extra == \"dataframe\"->dask[dataframe]>=2.12.0->featuretools>=0.20.0->evalml) (3.10.0)\n",
            "Collecting locket\n",
            "  Downloading https://files.pythonhosted.org/packages/50/b8/e789e45b9b9c2db75e9d9e6ceb022c8d1d7e49b2c085ce8c05600f90a96b/locket-0.2.1-py2.py3-none-any.whl\n",
            "Requirement already satisfied: MarkupSafe>=0.23 in /usr/local/lib/python3.7/dist-packages (from jinja2->notebook>=4.4.1->widgetsnbextension~=3.5.0->ipywidgets>=7.5->evalml) (1.1.1)\n",
            "Requirement already satisfied: mistune<2,>=0.8.1 in /usr/local/lib/python3.7/dist-packages (from nbconvert->notebook>=4.4.1->widgetsnbextension~=3.5.0->ipywidgets>=7.5->evalml) (0.8.4)\n",
            "Requirement already satisfied: defusedxml in /usr/local/lib/python3.7/dist-packages (from nbconvert->notebook>=4.4.1->widgetsnbextension~=3.5.0->ipywidgets>=7.5->evalml) (0.7.1)\n",
            "Requirement already satisfied: pandocfilters>=1.4.1 in /usr/local/lib/python3.7/dist-packages (from nbconvert->notebook>=4.4.1->widgetsnbextension~=3.5.0->ipywidgets>=7.5->evalml) (1.4.3)\n",
            "Requirement already satisfied: bleach in /usr/local/lib/python3.7/dist-packages (from nbconvert->notebook>=4.4.1->widgetsnbextension~=3.5.0->ipywidgets>=7.5->evalml) (3.3.0)\n",
            "Requirement already satisfied: testpath in /usr/local/lib/python3.7/dist-packages (from nbconvert->notebook>=4.4.1->widgetsnbextension~=3.5.0->ipywidgets>=7.5->evalml) (0.4.4)\n",
            "Requirement already satisfied: entrypoints>=0.2.2 in /usr/local/lib/python3.7/dist-packages (from nbconvert->notebook>=4.4.1->widgetsnbextension~=3.5.0->ipywidgets>=7.5->evalml) (0.3)\n",
            "Requirement already satisfied: zipp>=0.5 in /usr/local/lib/python3.7/dist-packages (from importlib-metadata; python_version < \"3.8\"->fsspec>=0.6.0; extra == \"dataframe\"->dask[dataframe]>=2.12.0->featuretools>=0.20.0->evalml) (3.4.1)\n",
            "Requirement already satisfied: typing-extensions>=3.6.4; python_version < \"3.8\" in /usr/local/lib/python3.7/dist-packages (from importlib-metadata; python_version < \"3.8\"->fsspec>=0.6.0; extra == \"dataframe\"->dask[dataframe]>=2.12.0->featuretools>=0.20.0->evalml) (3.7.4.3)\n",
            "Requirement already satisfied: packaging in /usr/local/lib/python3.7/dist-packages (from bleach->nbconvert->notebook>=4.4.1->widgetsnbextension~=3.5.0->ipywidgets>=7.5->evalml) (20.9)\n",
            "Requirement already satisfied: webencodings in /usr/local/lib/python3.7/dist-packages (from bleach->nbconvert->notebook>=4.4.1->widgetsnbextension~=3.5.0->ipywidgets>=7.5->evalml) (0.5.1)\n",
            "Building wheels for collected packages: requirements-parser, shap\n",
            "  Building wheel for requirements-parser (setup.py) ... \u001b[?25l\u001b[?25hdone\n",
            "  Created wheel for requirements-parser: filename=requirements_parser-0.2.0-cp37-none-any.whl size=7656 sha256=803bb28600426a09a7a41e500aae71251c999cf4bb0b20313f3beca350c76d4c\n",
            "  Stored in directory: /root/.cache/pip/wheels/c6/e5/ef/a12b26033eee476b7ebdd797528faa1765feae6e3b33a3954b\n",
            "  Building wheel for shap (setup.py) ... \u001b[?25l\u001b[?25hdone\n",
            "  Created wheel for shap: filename=shap-0.39.0-cp37-cp37m-linux_x86_64.whl size=491637 sha256=7e66c07975deba62571650ec4bfac49b2f5057efd84b17e0da7471e7c7b76a51\n",
            "  Stored in directory: /root/.cache/pip/wheels/15/27/f5/a8ab9da52fd159aae6477b5ede6eaaec69fd130fa0fa59f283\n",
            "Successfully built requirements-parser shap\n",
            "\u001b[31mERROR: distributed 2021.4.0 has requirement cloudpickle>=1.5.0, but you'll have cloudpickle 1.3.0 which is incompatible.\u001b[0m\n",
            "\u001b[31mERROR: distributed 2021.4.0 has requirement dask>=2021.03.0, but you'll have dask 2.12.0 which is incompatible.\u001b[0m\n",
            "\u001b[31mERROR: albumentations 0.1.12 has requirement imgaug<0.2.7,>=0.2.5, but you'll have imgaug 0.2.9 which is incompatible.\u001b[0m\n",
            "Installing collected packages: threadpoolctl, scikit-learn, imbalanced-learn, nltk, psutil, distributed, featuretools, nlp-primitives, plotly, statsmodels, category-encoders, woodwork, requirements-parser, graphviz, colorama, texttable, sktime, lightgbm, slicer, shap, kaleido, pyzmq, matplotlib, pyaml, scikit-optimize, catboost, evalml, fsspec, locket, partd\n",
            "  Found existing installation: scikit-learn 0.22.2.post1\n",
            "    Uninstalling scikit-learn-0.22.2.post1:\n",
            "      Successfully uninstalled scikit-learn-0.22.2.post1\n",
            "  Found existing installation: imbalanced-learn 0.4.3\n",
            "    Uninstalling imbalanced-learn-0.4.3:\n",
            "      Successfully uninstalled imbalanced-learn-0.4.3\n",
            "  Found existing installation: nltk 3.2.5\n",
            "    Uninstalling nltk-3.2.5:\n",
            "      Successfully uninstalled nltk-3.2.5\n",
            "  Found existing installation: psutil 5.4.8\n",
            "    Uninstalling psutil-5.4.8:\n",
            "      Successfully uninstalled psutil-5.4.8\n",
            "  Found existing installation: distributed 1.25.3\n",
            "    Uninstalling distributed-1.25.3:\n",
            "      Successfully uninstalled distributed-1.25.3\n",
            "  Found existing installation: plotly 4.4.1\n",
            "    Uninstalling plotly-4.4.1:\n",
            "      Successfully uninstalled plotly-4.4.1\n",
            "  Found existing installation: statsmodels 0.10.2\n",
            "    Uninstalling statsmodels-0.10.2:\n",
            "      Successfully uninstalled statsmodels-0.10.2\n",
            "  Found existing installation: graphviz 0.10.1\n",
            "    Uninstalling graphviz-0.10.1:\n",
            "      Successfully uninstalled graphviz-0.10.1\n",
            "  Found existing installation: lightgbm 2.2.3\n",
            "    Uninstalling lightgbm-2.2.3:\n",
            "      Successfully uninstalled lightgbm-2.2.3\n",
            "  Found existing installation: pyzmq 22.0.3\n",
            "    Uninstalling pyzmq-22.0.3:\n",
            "      Successfully uninstalled pyzmq-22.0.3\n",
            "  Found existing installation: matplotlib 3.2.2\n",
            "    Uninstalling matplotlib-3.2.2:\n",
            "      Successfully uninstalled matplotlib-3.2.2\n",
            "Successfully installed catboost-0.25.1 category-encoders-2.2.2 colorama-0.4.4 distributed-2021.4.0 evalml-0.22.0 featuretools-0.23.3 fsspec-0.9.0 graphviz-0.16 imbalanced-learn-0.8.0 kaleido-0.2.1 lightgbm-3.0.0 locket-0.2.1 matplotlib-3.4.1 nlp-primitives-1.1.0 nltk-3.6.1 partd-1.2.0 plotly-4.14.3 psutil-5.8.0 pyaml-20.4.0 pyzmq-21.0.2 requirements-parser-0.2.0 scikit-learn-0.24.1 scikit-optimize-0.8.1 shap-0.39.0 sktime-0.5.3 slicer-0.0.7 statsmodels-0.12.2 texttable-1.6.3 threadpoolctl-2.1.0 woodwork-0.0.11\n"
          ],
          "name": "stdout"
        },
        {
          "output_type": "display_data",
          "data": {
            "application/vnd.colab-display-data+json": {
              "pip_warning": {
                "packages": [
                  "matplotlib",
                  "mpl_toolkits",
                  "psutil",
                  "zmq"
                ]
              }
            }
          },
          "metadata": {
            "tags": []
          }
        }
      ]
    },
    {
      "cell_type": "markdown",
      "metadata": {
        "id": "Z42QtuRSqURd"
      },
      "source": [
        "### Loading The Dataset\n",
        "- We can also read the dataset from csv\n",
        "- then convert to datatable"
      ]
    },
    {
      "cell_type": "code",
      "metadata": {
        "id": "-OSqNayuqURf",
        "colab": {
          "base_uri": "https://localhost:8080/"
        },
        "outputId": "b30e22f6-253b-4b73-8ac1-192cbaee1c61"
      },
      "source": [
        "import evalml\n",
        "X, y = evalml.demos.load_breast_cancer()\n",
        "X_train, X_test, y_train, y_test = evalml.preprocessing.split_data(X, y, problem_type='binary')"
      ],
      "execution_count": 1,
      "outputs": [
        {
          "output_type": "stream",
          "text": [
            "2021-04-14 09:21:21,247 featuretools - WARNING    Featuretools failed to load plugin nlp_primitives from library nlp_primitives. For a full stack trace, set logging to debug.\n"
          ],
          "name": "stdout"
        }
      ]
    },
    {
      "cell_type": "code",
      "metadata": {
        "id": "knnb68lvqURh",
        "colab": {
          "base_uri": "https://localhost:8080/",
          "height": 402
        },
        "outputId": "9a0b9a7e-a6c4-40df-8d6d-efdf99d51871"
      },
      "source": [
        "X_train.head()"
      ],
      "execution_count": 2,
      "outputs": [
        {
          "output_type": "execute_result",
          "data": {
            "text/html": [
              "<div>\n",
              "<style scoped>\n",
              "    .dataframe tbody tr th:only-of-type {\n",
              "        vertical-align: middle;\n",
              "    }\n",
              "\n",
              "    .dataframe tbody tr th {\n",
              "        vertical-align: top;\n",
              "    }\n",
              "\n",
              "    .dataframe thead tr th {\n",
              "        text-align: left;\n",
              "    }\n",
              "</style>\n",
              "<table border=\"1\" class=\"dataframe\">\n",
              "  <thead>\n",
              "    <tr>\n",
              "      <th>Data Column</th>\n",
              "      <th>mean radius</th>\n",
              "      <th>mean texture</th>\n",
              "      <th>mean perimeter</th>\n",
              "      <th>mean area</th>\n",
              "      <th>mean smoothness</th>\n",
              "      <th>mean compactness</th>\n",
              "      <th>mean concavity</th>\n",
              "      <th>mean concave points</th>\n",
              "      <th>mean symmetry</th>\n",
              "      <th>mean fractal dimension</th>\n",
              "      <th>radius error</th>\n",
              "      <th>texture error</th>\n",
              "      <th>perimeter error</th>\n",
              "      <th>area error</th>\n",
              "      <th>smoothness error</th>\n",
              "      <th>compactness error</th>\n",
              "      <th>concavity error</th>\n",
              "      <th>concave points error</th>\n",
              "      <th>symmetry error</th>\n",
              "      <th>fractal dimension error</th>\n",
              "      <th>worst radius</th>\n",
              "      <th>worst texture</th>\n",
              "      <th>worst perimeter</th>\n",
              "      <th>worst area</th>\n",
              "      <th>worst smoothness</th>\n",
              "      <th>worst compactness</th>\n",
              "      <th>worst concavity</th>\n",
              "      <th>worst concave points</th>\n",
              "      <th>worst symmetry</th>\n",
              "      <th>worst fractal dimension</th>\n",
              "    </tr>\n",
              "    <tr>\n",
              "      <th>Physical Type</th>\n",
              "      <th>float64</th>\n",
              "      <th>float64</th>\n",
              "      <th>float64</th>\n",
              "      <th>float64</th>\n",
              "      <th>float64</th>\n",
              "      <th>float64</th>\n",
              "      <th>float64</th>\n",
              "      <th>float64</th>\n",
              "      <th>float64</th>\n",
              "      <th>float64</th>\n",
              "      <th>float64</th>\n",
              "      <th>float64</th>\n",
              "      <th>float64</th>\n",
              "      <th>float64</th>\n",
              "      <th>float64</th>\n",
              "      <th>float64</th>\n",
              "      <th>float64</th>\n",
              "      <th>float64</th>\n",
              "      <th>float64</th>\n",
              "      <th>float64</th>\n",
              "      <th>float64</th>\n",
              "      <th>float64</th>\n",
              "      <th>float64</th>\n",
              "      <th>float64</th>\n",
              "      <th>float64</th>\n",
              "      <th>float64</th>\n",
              "      <th>float64</th>\n",
              "      <th>float64</th>\n",
              "      <th>float64</th>\n",
              "      <th>float64</th>\n",
              "    </tr>\n",
              "    <tr>\n",
              "      <th>Logical Type</th>\n",
              "      <th>Double</th>\n",
              "      <th>Double</th>\n",
              "      <th>Double</th>\n",
              "      <th>Double</th>\n",
              "      <th>Double</th>\n",
              "      <th>Double</th>\n",
              "      <th>Double</th>\n",
              "      <th>Double</th>\n",
              "      <th>Double</th>\n",
              "      <th>Double</th>\n",
              "      <th>Double</th>\n",
              "      <th>Double</th>\n",
              "      <th>Double</th>\n",
              "      <th>Double</th>\n",
              "      <th>Double</th>\n",
              "      <th>Double</th>\n",
              "      <th>Double</th>\n",
              "      <th>Double</th>\n",
              "      <th>Double</th>\n",
              "      <th>Double</th>\n",
              "      <th>Double</th>\n",
              "      <th>Double</th>\n",
              "      <th>Double</th>\n",
              "      <th>Double</th>\n",
              "      <th>Double</th>\n",
              "      <th>Double</th>\n",
              "      <th>Double</th>\n",
              "      <th>Double</th>\n",
              "      <th>Double</th>\n",
              "      <th>Double</th>\n",
              "    </tr>\n",
              "    <tr>\n",
              "      <th>Semantic Tag(s)</th>\n",
              "      <th>['numeric']</th>\n",
              "      <th>['numeric']</th>\n",
              "      <th>['numeric']</th>\n",
              "      <th>['numeric']</th>\n",
              "      <th>['numeric']</th>\n",
              "      <th>['numeric']</th>\n",
              "      <th>['numeric']</th>\n",
              "      <th>['numeric']</th>\n",
              "      <th>['numeric']</th>\n",
              "      <th>['numeric']</th>\n",
              "      <th>['numeric']</th>\n",
              "      <th>['numeric']</th>\n",
              "      <th>['numeric']</th>\n",
              "      <th>['numeric']</th>\n",
              "      <th>['numeric']</th>\n",
              "      <th>['numeric']</th>\n",
              "      <th>['numeric']</th>\n",
              "      <th>['numeric']</th>\n",
              "      <th>['numeric']</th>\n",
              "      <th>['numeric']</th>\n",
              "      <th>['numeric']</th>\n",
              "      <th>['numeric']</th>\n",
              "      <th>['numeric']</th>\n",
              "      <th>['numeric']</th>\n",
              "      <th>['numeric']</th>\n",
              "      <th>['numeric']</th>\n",
              "      <th>['numeric']</th>\n",
              "      <th>['numeric']</th>\n",
              "      <th>['numeric']</th>\n",
              "      <th>['numeric']</th>\n",
              "    </tr>\n",
              "  </thead>\n",
              "  <tbody>\n",
              "    <tr>\n",
              "      <th>381</th>\n",
              "      <td>11.04</td>\n",
              "      <td>14.93</td>\n",
              "      <td>70.67</td>\n",
              "      <td>372.7</td>\n",
              "      <td>0.07987</td>\n",
              "      <td>0.07079</td>\n",
              "      <td>0.03546</td>\n",
              "      <td>0.020740</td>\n",
              "      <td>0.2003</td>\n",
              "      <td>0.06246</td>\n",
              "      <td>0.1642</td>\n",
              "      <td>1.0310</td>\n",
              "      <td>1.281</td>\n",
              "      <td>11.68</td>\n",
              "      <td>0.005296</td>\n",
              "      <td>0.01903</td>\n",
              "      <td>0.01723</td>\n",
              "      <td>0.006960</td>\n",
              "      <td>0.01880</td>\n",
              "      <td>0.001941</td>\n",
              "      <td>12.090</td>\n",
              "      <td>20.83</td>\n",
              "      <td>79.73</td>\n",
              "      <td>447.1</td>\n",
              "      <td>0.1095</td>\n",
              "      <td>0.1982</td>\n",
              "      <td>0.15530</td>\n",
              "      <td>0.06754</td>\n",
              "      <td>0.3202</td>\n",
              "      <td>0.07287</td>\n",
              "    </tr>\n",
              "    <tr>\n",
              "      <th>144</th>\n",
              "      <td>10.75</td>\n",
              "      <td>14.97</td>\n",
              "      <td>68.26</td>\n",
              "      <td>355.3</td>\n",
              "      <td>0.07793</td>\n",
              "      <td>0.05139</td>\n",
              "      <td>0.02251</td>\n",
              "      <td>0.007875</td>\n",
              "      <td>0.1399</td>\n",
              "      <td>0.05688</td>\n",
              "      <td>0.2525</td>\n",
              "      <td>1.2390</td>\n",
              "      <td>1.806</td>\n",
              "      <td>17.74</td>\n",
              "      <td>0.006547</td>\n",
              "      <td>0.01781</td>\n",
              "      <td>0.02018</td>\n",
              "      <td>0.005612</td>\n",
              "      <td>0.01671</td>\n",
              "      <td>0.002360</td>\n",
              "      <td>11.950</td>\n",
              "      <td>20.72</td>\n",
              "      <td>77.79</td>\n",
              "      <td>441.2</td>\n",
              "      <td>0.1076</td>\n",
              "      <td>0.1223</td>\n",
              "      <td>0.09755</td>\n",
              "      <td>0.03413</td>\n",
              "      <td>0.2300</td>\n",
              "      <td>0.06769</td>\n",
              "    </tr>\n",
              "    <tr>\n",
              "      <th>136</th>\n",
              "      <td>11.71</td>\n",
              "      <td>16.67</td>\n",
              "      <td>74.72</td>\n",
              "      <td>423.6</td>\n",
              "      <td>0.10510</td>\n",
              "      <td>0.06095</td>\n",
              "      <td>0.03592</td>\n",
              "      <td>0.026000</td>\n",
              "      <td>0.1339</td>\n",
              "      <td>0.05945</td>\n",
              "      <td>0.4489</td>\n",
              "      <td>2.5080</td>\n",
              "      <td>3.258</td>\n",
              "      <td>34.37</td>\n",
              "      <td>0.006578</td>\n",
              "      <td>0.01380</td>\n",
              "      <td>0.02662</td>\n",
              "      <td>0.013070</td>\n",
              "      <td>0.01359</td>\n",
              "      <td>0.003707</td>\n",
              "      <td>13.330</td>\n",
              "      <td>25.48</td>\n",
              "      <td>86.16</td>\n",
              "      <td>546.7</td>\n",
              "      <td>0.1271</td>\n",
              "      <td>0.1028</td>\n",
              "      <td>0.10460</td>\n",
              "      <td>0.06968</td>\n",
              "      <td>0.1712</td>\n",
              "      <td>0.07343</td>\n",
              "    </tr>\n",
              "    <tr>\n",
              "      <th>116</th>\n",
              "      <td>8.95</td>\n",
              "      <td>15.76</td>\n",
              "      <td>58.74</td>\n",
              "      <td>245.2</td>\n",
              "      <td>0.09462</td>\n",
              "      <td>0.12430</td>\n",
              "      <td>0.09263</td>\n",
              "      <td>0.023080</td>\n",
              "      <td>0.1305</td>\n",
              "      <td>0.07163</td>\n",
              "      <td>0.3132</td>\n",
              "      <td>0.9789</td>\n",
              "      <td>3.280</td>\n",
              "      <td>16.94</td>\n",
              "      <td>0.018350</td>\n",
              "      <td>0.06760</td>\n",
              "      <td>0.09263</td>\n",
              "      <td>0.023080</td>\n",
              "      <td>0.02384</td>\n",
              "      <td>0.005601</td>\n",
              "      <td>9.414</td>\n",
              "      <td>17.07</td>\n",
              "      <td>63.34</td>\n",
              "      <td>270.0</td>\n",
              "      <td>0.1179</td>\n",
              "      <td>0.1879</td>\n",
              "      <td>0.15440</td>\n",
              "      <td>0.03846</td>\n",
              "      <td>0.1652</td>\n",
              "      <td>0.07722</td>\n",
              "    </tr>\n",
              "    <tr>\n",
              "      <th>567</th>\n",
              "      <td>20.60</td>\n",
              "      <td>29.33</td>\n",
              "      <td>140.10</td>\n",
              "      <td>1265.0</td>\n",
              "      <td>0.11780</td>\n",
              "      <td>0.27700</td>\n",
              "      <td>0.35140</td>\n",
              "      <td>0.152000</td>\n",
              "      <td>0.2397</td>\n",
              "      <td>0.07016</td>\n",
              "      <td>0.7260</td>\n",
              "      <td>1.5950</td>\n",
              "      <td>5.772</td>\n",
              "      <td>86.22</td>\n",
              "      <td>0.006522</td>\n",
              "      <td>0.06158</td>\n",
              "      <td>0.07117</td>\n",
              "      <td>0.016640</td>\n",
              "      <td>0.02324</td>\n",
              "      <td>0.006185</td>\n",
              "      <td>25.740</td>\n",
              "      <td>39.42</td>\n",
              "      <td>184.60</td>\n",
              "      <td>1821.0</td>\n",
              "      <td>0.1650</td>\n",
              "      <td>0.8681</td>\n",
              "      <td>0.93870</td>\n",
              "      <td>0.26500</td>\n",
              "      <td>0.4087</td>\n",
              "      <td>0.12400</td>\n",
              "    </tr>\n",
              "  </tbody>\n",
              "</table>\n",
              "</div>"
            ],
            "text/plain": [
              "Data Column     mean radius mean texture  ... worst symmetry worst fractal dimension\n",
              "Physical Type       float64      float64  ...        float64                 float64\n",
              "Logical Type         Double       Double  ...         Double                  Double\n",
              "Semantic Tag(s) ['numeric']  ['numeric']  ...    ['numeric']             ['numeric']\n",
              "381                   11.04        14.93  ...         0.3202                 0.07287\n",
              "144                   10.75        14.97  ...         0.2300                 0.06769\n",
              "136                   11.71        16.67  ...         0.1712                 0.07343\n",
              "116                    8.95        15.76  ...         0.1652                 0.07722\n",
              "567                   20.60        29.33  ...         0.4087                 0.12400\n",
              "\n",
              "[5 rows x 30 columns]"
            ]
          },
          "metadata": {
            "tags": []
          },
          "execution_count": 2
        }
      ]
    },
    {
      "cell_type": "markdown",
      "metadata": {
        "id": "cGYVsmvYqURj"
      },
      "source": [
        "### Running the AutoML to select the best algorithm"
      ]
    },
    {
      "cell_type": "code",
      "metadata": {
        "id": "zd5KFqJRqURk",
        "colab": {
          "base_uri": "https://localhost:8080/"
        },
        "outputId": "23ad785e-2975-41db-ea7c-b9e58225d704"
      },
      "source": [
        "import evalml\n",
        "evalml.problem_types.ProblemTypes.all_problem_types"
      ],
      "execution_count": 3,
      "outputs": [
        {
          "output_type": "execute_result",
          "data": {
            "text/plain": [
              "[<ProblemTypes.BINARY: 'binary'>,\n",
              " <ProblemTypes.MULTICLASS: 'multiclass'>,\n",
              " <ProblemTypes.REGRESSION: 'regression'>,\n",
              " <ProblemTypes.TIME_SERIES_REGRESSION: 'time series regression'>,\n",
              " <ProblemTypes.TIME_SERIES_BINARY: 'time series binary'>,\n",
              " <ProblemTypes.TIME_SERIES_MULTICLASS: 'time series multiclass'>]"
            ]
          },
          "metadata": {
            "tags": []
          },
          "execution_count": 3
        }
      ]
    },
    {
      "cell_type": "code",
      "metadata": {
        "id": "zKHJoqEuqURl",
        "colab": {
          "base_uri": "https://localhost:8080/",
          "height": 853,
          "referenced_widgets": [
            "6d6ff1493b38449e973abc255d58b3be"
          ]
        },
        "outputId": "a1f21d47-999f-4466-deb2-64e19a86706d"
      },
      "source": [
        "from evalml.automl import AutoMLSearch\n",
        "automl = AutoMLSearch(X_train=X_train, y_train=y_train, problem_type='binary')\n",
        "automl.search()"
      ],
      "execution_count": 4,
      "outputs": [
        {
          "output_type": "stream",
          "text": [
            "Using default limit of max_batches=1.\n",
            "\n",
            "Generating pipelines to search over...\n",
            "*****************************\n",
            "* Beginning pipeline search *\n",
            "*****************************\n",
            "\n",
            "Optimizing for Log Loss Binary. \n",
            "Lower score is better.\n",
            "\n",
            "Using SequentialEngine to train and score pipelines.\n",
            "Searching up to 1 batches for a total of 9 pipelines. \n",
            "Allowed model families: lightgbm, decision_tree, random_forest, extra_trees, linear_model, catboost, xgboost\n",
            "\n"
          ],
          "name": "stdout"
        },
        {
          "output_type": "display_data",
          "data": {
            "application/vnd.jupyter.widget-view+json": {
              "model_id": "6d6ff1493b38449e973abc255d58b3be",
              "version_minor": 0,
              "version_major": 2
            },
            "text/plain": [
              "FigureWidget({\n",
              "    'data': [{'mode': 'lines+markers',\n",
              "              'name': 'Best Score',\n",
              "              'type'…"
            ]
          },
          "metadata": {
            "tags": []
          }
        },
        {
          "output_type": "stream",
          "text": [
            "Batch 1: (1/9) Mode Baseline Binary Classification P... Elapsed:00:00\n",
            "\tStarting cross validation\n",
            "\tFinished cross validation - mean Log Loss Binary: 12.904\n",
            "Batch 1: (2/9) Decision Tree Classifier w/ Imputer      Elapsed:00:00\n",
            "\tStarting cross validation\n",
            "\tFinished cross validation - mean Log Loss Binary: 2.432\n",
            "High coefficient of variation (cv >= 0.2) within cross validation scores. Decision Tree Classifier w/ Imputer may not perform as estimated on unseen data.\n",
            "Batch 1: (3/9) LightGBM Classifier w/ Imputer           Elapsed:00:01\n",
            "\tStarting cross validation\n",
            "\tFinished cross validation - mean Log Loss Binary: 0.133\n",
            "Batch 1: (4/9) Extra Trees Classifier w/ Imputer        Elapsed:00:02\n",
            "\tStarting cross validation\n",
            "\tFinished cross validation - mean Log Loss Binary: 0.137\n",
            "Batch 1: (5/9) Elastic Net Classifier w/ Imputer + S... Elapsed:00:04\n",
            "\tStarting cross validation\n",
            "\tFinished cross validation - mean Log Loss Binary: 0.506\n",
            "Batch 1: (6/9) CatBoost Classifier w/ Imputer           Elapsed:00:06\n",
            "\tStarting cross validation\n",
            "\tFinished cross validation - mean Log Loss Binary: 0.386\n",
            "Batch 1: (7/9) XGBoost Classifier w/ Imputer            Elapsed:00:07\n",
            "\tStarting cross validation\n",
            "\tFinished cross validation - mean Log Loss Binary: 0.113\n",
            "High coefficient of variation (cv >= 0.2) within cross validation scores. XGBoost Classifier w/ Imputer may not perform as estimated on unseen data.\n",
            "Batch 1: (8/9) Random Forest Classifier w/ Imputer      Elapsed:00:08\n",
            "\tStarting cross validation\n",
            "\tFinished cross validation - mean Log Loss Binary: 0.120\n",
            "Batch 1: (9/9) Logistic Regression Classifier w/ Imp... Elapsed:00:10\n",
            "\tStarting cross validation\n",
            "\tFinished cross validation - mean Log Loss Binary: 0.094\n",
            "High coefficient of variation (cv >= 0.2) within cross validation scores. Logistic Regression Classifier w/ Imputer + Standard Scaler may not perform as estimated on unseen data.\n",
            "\n",
            "Search finished after 00:13            \n",
            "Best pipeline: Logistic Regression Classifier w/ Imputer + Standard Scaler\n",
            "Best pipeline Log Loss Binary: 0.094015\n"
          ],
          "name": "stdout"
        }
      ]
    },
    {
      "cell_type": "code",
      "metadata": {
        "id": "MUGCvJGoqURm",
        "colab": {
          "base_uri": "https://localhost:8080/",
          "height": 705
        },
        "outputId": "79de8732-1259-4e20-ce52-5c8bcfc86e75"
      },
      "source": [
        "automl.rankings"
      ],
      "execution_count": 5,
      "outputs": [
        {
          "output_type": "execute_result",
          "data": {
            "text/html": [
              "<div>\n",
              "<style scoped>\n",
              "    .dataframe tbody tr th:only-of-type {\n",
              "        vertical-align: middle;\n",
              "    }\n",
              "\n",
              "    .dataframe tbody tr th {\n",
              "        vertical-align: top;\n",
              "    }\n",
              "\n",
              "    .dataframe thead th {\n",
              "        text-align: right;\n",
              "    }\n",
              "</style>\n",
              "<table border=\"1\" class=\"dataframe\">\n",
              "  <thead>\n",
              "    <tr style=\"text-align: right;\">\n",
              "      <th></th>\n",
              "      <th>id</th>\n",
              "      <th>pipeline_name</th>\n",
              "      <th>score</th>\n",
              "      <th>validation_score</th>\n",
              "      <th>percent_better_than_baseline</th>\n",
              "      <th>high_variance_cv</th>\n",
              "      <th>parameters</th>\n",
              "    </tr>\n",
              "  </thead>\n",
              "  <tbody>\n",
              "    <tr>\n",
              "      <th>0</th>\n",
              "      <td>8</td>\n",
              "      <td>Logistic Regression Classifier w/ Imputer + St...</td>\n",
              "      <td>0.094015</td>\n",
              "      <td>0.060529</td>\n",
              "      <td>99.271446</td>\n",
              "      <td>True</td>\n",
              "      <td>{'Imputer': {'categorical_impute_strategy': 'm...</td>\n",
              "    </tr>\n",
              "    <tr>\n",
              "      <th>1</th>\n",
              "      <td>6</td>\n",
              "      <td>XGBoost Classifier w/ Imputer</td>\n",
              "      <td>0.113098</td>\n",
              "      <td>0.069048</td>\n",
              "      <td>99.123568</td>\n",
              "      <td>True</td>\n",
              "      <td>{'Imputer': {'categorical_impute_strategy': 'm...</td>\n",
              "    </tr>\n",
              "    <tr>\n",
              "      <th>2</th>\n",
              "      <td>7</td>\n",
              "      <td>Random Forest Classifier w/ Imputer</td>\n",
              "      <td>0.119972</td>\n",
              "      <td>0.099614</td>\n",
              "      <td>99.070299</td>\n",
              "      <td>False</td>\n",
              "      <td>{'Imputer': {'categorical_impute_strategy': 'm...</td>\n",
              "    </tr>\n",
              "    <tr>\n",
              "      <th>3</th>\n",
              "      <td>2</td>\n",
              "      <td>LightGBM Classifier w/ Imputer</td>\n",
              "      <td>0.132722</td>\n",
              "      <td>0.110679</td>\n",
              "      <td>98.971496</td>\n",
              "      <td>False</td>\n",
              "      <td>{'Imputer': {'categorical_impute_strategy': 'm...</td>\n",
              "    </tr>\n",
              "    <tr>\n",
              "      <th>4</th>\n",
              "      <td>3</td>\n",
              "      <td>Extra Trees Classifier w/ Imputer</td>\n",
              "      <td>0.136959</td>\n",
              "      <td>0.111169</td>\n",
              "      <td>98.938661</td>\n",
              "      <td>False</td>\n",
              "      <td>{'Imputer': {'categorical_impute_strategy': 'm...</td>\n",
              "    </tr>\n",
              "    <tr>\n",
              "      <th>5</th>\n",
              "      <td>5</td>\n",
              "      <td>CatBoost Classifier w/ Imputer</td>\n",
              "      <td>0.386387</td>\n",
              "      <td>0.374338</td>\n",
              "      <td>97.005774</td>\n",
              "      <td>False</td>\n",
              "      <td>{'Imputer': {'categorical_impute_strategy': 'm...</td>\n",
              "    </tr>\n",
              "    <tr>\n",
              "      <th>6</th>\n",
              "      <td>4</td>\n",
              "      <td>Elastic Net Classifier w/ Imputer + Standard S...</td>\n",
              "      <td>0.505862</td>\n",
              "      <td>0.496767</td>\n",
              "      <td>96.079926</td>\n",
              "      <td>False</td>\n",
              "      <td>{'Imputer': {'categorical_impute_strategy': 'm...</td>\n",
              "    </tr>\n",
              "    <tr>\n",
              "      <th>7</th>\n",
              "      <td>1</td>\n",
              "      <td>Decision Tree Classifier w/ Imputer</td>\n",
              "      <td>2.431916</td>\n",
              "      <td>2.726782</td>\n",
              "      <td>81.154350</td>\n",
              "      <td>True</td>\n",
              "      <td>{'Imputer': {'categorical_impute_strategy': 'm...</td>\n",
              "    </tr>\n",
              "    <tr>\n",
              "      <th>8</th>\n",
              "      <td>0</td>\n",
              "      <td>Mode Baseline Binary Classification Pipeline</td>\n",
              "      <td>12.904388</td>\n",
              "      <td>12.952041</td>\n",
              "      <td>0.000000</td>\n",
              "      <td>False</td>\n",
              "      <td>{'Baseline Classifier': {'strategy': 'mode'}}</td>\n",
              "    </tr>\n",
              "  </tbody>\n",
              "</table>\n",
              "</div>"
            ],
            "text/plain": [
              "   id  ...                                         parameters\n",
              "0   8  ...  {'Imputer': {'categorical_impute_strategy': 'm...\n",
              "1   6  ...  {'Imputer': {'categorical_impute_strategy': 'm...\n",
              "2   7  ...  {'Imputer': {'categorical_impute_strategy': 'm...\n",
              "3   2  ...  {'Imputer': {'categorical_impute_strategy': 'm...\n",
              "4   3  ...  {'Imputer': {'categorical_impute_strategy': 'm...\n",
              "5   5  ...  {'Imputer': {'categorical_impute_strategy': 'm...\n",
              "6   4  ...  {'Imputer': {'categorical_impute_strategy': 'm...\n",
              "7   1  ...  {'Imputer': {'categorical_impute_strategy': 'm...\n",
              "8   0  ...      {'Baseline Classifier': {'strategy': 'mode'}}\n",
              "\n",
              "[9 rows x 7 columns]"
            ]
          },
          "metadata": {
            "tags": []
          },
          "execution_count": 5
        }
      ]
    },
    {
      "cell_type": "markdown",
      "metadata": {
        "id": "wsVBDy8AqURn"
      },
      "source": [
        "### Getting The Best Pipeline"
      ]
    },
    {
      "cell_type": "code",
      "metadata": {
        "id": "q8N3rG4AqURo",
        "colab": {
          "base_uri": "https://localhost:8080/"
        },
        "outputId": "faa92952-4cc6-4ae4-b803-07e9034a47bd"
      },
      "source": [
        "automl.best_pipeline"
      ],
      "execution_count": 6,
      "outputs": [
        {
          "output_type": "execute_result",
          "data": {
            "text/plain": [
              "GeneratedPipeline(parameters={'Imputer':{'categorical_impute_strategy': 'most_frequent', 'numeric_impute_strategy': 'mean', 'categorical_fill_value': None, 'numeric_fill_value': None}, 'Logistic Regression Classifier':{'penalty': 'l2', 'C': 1.0, 'n_jobs': -1, 'multi_class': 'auto', 'solver': 'lbfgs'},})"
            ]
          },
          "metadata": {
            "tags": []
          },
          "execution_count": 6
        }
      ]
    },
    {
      "cell_type": "code",
      "metadata": {
        "id": "W7wdlJMDqURp"
      },
      "source": [
        "best_pipeline=automl.best_pipeline"
      ],
      "execution_count": 7,
      "outputs": []
    },
    {
      "cell_type": "markdown",
      "metadata": {
        "id": "T3NtdpV_qURq"
      },
      "source": [
        "### Let's Check the detailed desscription"
      ]
    },
    {
      "cell_type": "code",
      "metadata": {
        "id": "cVPm6klaqURr",
        "colab": {
          "base_uri": "https://localhost:8080/"
        },
        "outputId": "cbae7e97-59b5-4c1e-986c-2fa4daf845df"
      },
      "source": [
        "automl.describe_pipeline(automl.rankings.iloc[0][\"id\"])"
      ],
      "execution_count": 9,
      "outputs": [
        {
          "output_type": "stream",
          "text": [
            "***************************************************************\n",
            "* Logistic Regression Classifier w/ Imputer + Standard Scaler *\n",
            "***************************************************************\n",
            "\n",
            "Problem Type: binary\n",
            "Model Family: Linear\n",
            "\n",
            "Pipeline Steps\n",
            "==============\n",
            "1. Imputer\n",
            "\t * categorical_impute_strategy : most_frequent\n",
            "\t * numeric_impute_strategy : mean\n",
            "\t * categorical_fill_value : None\n",
            "\t * numeric_fill_value : None\n",
            "2. Standard Scaler\n",
            "3. Logistic Regression Classifier\n",
            "\t * penalty : l2\n",
            "\t * C : 1.0\n",
            "\t * n_jobs : -1\n",
            "\t * multi_class : auto\n",
            "\t * solver : lbfgs\n",
            "\n",
            "Training\n",
            "========\n",
            "Training for binary problems.\n",
            "Total training time (including CV): 2.7 seconds\n",
            "\n",
            "Cross Validation\n",
            "----------------\n",
            "             Log Loss Binary  MCC Binary   AUC  Precision    F1  Balanced Accuracy Binary  Accuracy Binary  Sensitivity at Low Alert Rates # Training # Validation\n",
            "0                      0.061       0.958 0.997      0.966 0.974                     0.981            0.980                           0.412    303.000      152.000\n",
            "1                      0.128       0.930 0.984      0.981 0.955                     0.960            0.967                           0.333    303.000      152.000\n",
            "2                      0.093       0.944 0.993      1.000 0.963                     0.964            0.974                           0.261    304.000      151.000\n",
            "mean                   0.094       0.944 0.991      0.982 0.964                     0.968            0.974                           0.335          -            -\n",
            "std                    0.034       0.014 0.006      0.017 0.010                     0.011            0.007                           0.075          -            -\n",
            "coef of var            0.359       0.015 0.007      0.018 0.010                     0.011            0.007                           0.225          -            -\n"
          ],
          "name": "stdout"
        }
      ]
    },
    {
      "cell_type": "code",
      "metadata": {
        "id": "TONc6I0DqURt",
        "colab": {
          "base_uri": "https://localhost:8080/"
        },
        "outputId": "eac317c6-7c38-4f75-de3f-e0b69decad9e"
      },
      "source": [
        "### Evaluate on hold out data\n",
        "best_pipeline.score(X_test, y_test, objectives=[\"auc\",\"f1\",\"Precision\",\"Recall\"])"
      ],
      "execution_count": 10,
      "outputs": [
        {
          "output_type": "execute_result",
          "data": {
            "text/plain": [
              "OrderedDict([('AUC', 0.9933862433862434),\n",
              "             ('F1', 0.963855421686747),\n",
              "             ('Precision', 0.975609756097561),\n",
              "             ('Recall', 0.9523809523809523)])"
            ]
          },
          "metadata": {
            "tags": []
          },
          "execution_count": 10
        }
      ]
    },
    {
      "cell_type": "markdown",
      "metadata": {
        "id": "V6ZWOKtZqURu"
      },
      "source": [
        "### We can also optimize for a problem specific objective"
      ]
    },
    {
      "cell_type": "code",
      "metadata": {
        "id": "ylXA9WPBqURv",
        "colab": {
          "base_uri": "https://localhost:8080/",
          "height": 768,
          "referenced_widgets": [
            "bdee91d9abaf4039a50976737a64a9ce"
          ]
        },
        "outputId": "8edfde74-9785-4033-939f-95018f2f755f"
      },
      "source": [
        "automl_auc = AutoMLSearch(X_train=X_train, y_train=y_train,\n",
        "                          problem_type='binary',\n",
        "                          objective='auc',\n",
        "                          additional_objectives=['f1', 'precision'],\n",
        "                          max_batches=1,\n",
        "                          optimize_thresholds=True)\n",
        "\n",
        "automl_auc.search()"
      ],
      "execution_count": 11,
      "outputs": [
        {
          "output_type": "stream",
          "text": [
            "Generating pipelines to search over...\n",
            "*****************************\n",
            "* Beginning pipeline search *\n",
            "*****************************\n",
            "\n",
            "Optimizing for AUC. \n",
            "Greater score is better.\n",
            "\n",
            "Using SequentialEngine to train and score pipelines.\n",
            "Searching up to 1 batches for a total of 9 pipelines. \n",
            "Allowed model families: lightgbm, decision_tree, random_forest, extra_trees, linear_model, catboost, xgboost\n",
            "\n"
          ],
          "name": "stdout"
        },
        {
          "output_type": "display_data",
          "data": {
            "application/vnd.jupyter.widget-view+json": {
              "model_id": "bdee91d9abaf4039a50976737a64a9ce",
              "version_minor": 0,
              "version_major": 2
            },
            "text/plain": [
              "FigureWidget({\n",
              "    'data': [{'mode': 'lines+markers',\n",
              "              'name': 'Best Score',\n",
              "              'type'…"
            ]
          },
          "metadata": {
            "tags": []
          }
        },
        {
          "output_type": "stream",
          "text": [
            "Batch 1: (1/9) Mode Baseline Binary Classification P... Elapsed:00:00\n",
            "\tStarting cross validation\n",
            "\tFinished cross validation - mean AUC: 0.500\n",
            "Batch 1: (2/9) Decision Tree Classifier w/ Imputer      Elapsed:00:00\n",
            "\tStarting cross validation\n",
            "\tFinished cross validation - mean AUC: 0.923\n",
            "Batch 1: (3/9) LightGBM Classifier w/ Imputer           Elapsed:00:01\n",
            "\tStarting cross validation\n",
            "\tFinished cross validation - mean AUC: 0.991\n",
            "Batch 1: (4/9) Extra Trees Classifier w/ Imputer        Elapsed:00:02\n",
            "\tStarting cross validation\n",
            "\tFinished cross validation - mean AUC: 0.993\n",
            "Batch 1: (5/9) Elastic Net Classifier w/ Imputer + S... Elapsed:00:04\n",
            "\tStarting cross validation\n",
            "\tFinished cross validation - mean AUC: 0.985\n",
            "Batch 1: (6/9) CatBoost Classifier w/ Imputer           Elapsed:00:05\n",
            "\tStarting cross validation\n",
            "\tFinished cross validation - mean AUC: 0.991\n",
            "Batch 1: (7/9) XGBoost Classifier w/ Imputer            Elapsed:00:06\n",
            "\tStarting cross validation\n",
            "\tFinished cross validation - mean AUC: 0.991\n",
            "Batch 1: (8/9) Random Forest Classifier w/ Imputer      Elapsed:00:07\n",
            "\tStarting cross validation\n",
            "\tFinished cross validation - mean AUC: 0.992\n",
            "Batch 1: (9/9) Logistic Regression Classifier w/ Imp... Elapsed:00:10\n",
            "\tStarting cross validation\n",
            "\tFinished cross validation - mean AUC: 0.991\n",
            "\n",
            "Search finished after 00:11            \n",
            "Best pipeline: Extra Trees Classifier w/ Imputer\n",
            "Best pipeline AUC: 0.992791\n"
          ],
          "name": "stdout"
        }
      ]
    },
    {
      "cell_type": "code",
      "metadata": {
        "id": "0pCySk-PqURy",
        "colab": {
          "base_uri": "https://localhost:8080/",
          "height": 705
        },
        "outputId": "9d5a1248-a3cf-4a9a-9279-aa55c64c336e"
      },
      "source": [
        "automl_auc.rankings"
      ],
      "execution_count": 12,
      "outputs": [
        {
          "output_type": "execute_result",
          "data": {
            "text/html": [
              "<div>\n",
              "<style scoped>\n",
              "    .dataframe tbody tr th:only-of-type {\n",
              "        vertical-align: middle;\n",
              "    }\n",
              "\n",
              "    .dataframe tbody tr th {\n",
              "        vertical-align: top;\n",
              "    }\n",
              "\n",
              "    .dataframe thead th {\n",
              "        text-align: right;\n",
              "    }\n",
              "</style>\n",
              "<table border=\"1\" class=\"dataframe\">\n",
              "  <thead>\n",
              "    <tr style=\"text-align: right;\">\n",
              "      <th></th>\n",
              "      <th>id</th>\n",
              "      <th>pipeline_name</th>\n",
              "      <th>score</th>\n",
              "      <th>validation_score</th>\n",
              "      <th>percent_better_than_baseline</th>\n",
              "      <th>high_variance_cv</th>\n",
              "      <th>parameters</th>\n",
              "    </tr>\n",
              "  </thead>\n",
              "  <tbody>\n",
              "    <tr>\n",
              "      <th>0</th>\n",
              "      <td>3</td>\n",
              "      <td>Extra Trees Classifier w/ Imputer</td>\n",
              "      <td>0.992791</td>\n",
              "      <td>0.995753</td>\n",
              "      <td>49.279119</td>\n",
              "      <td>False</td>\n",
              "      <td>{'Imputer': {'categorical_impute_strategy': 'm...</td>\n",
              "    </tr>\n",
              "    <tr>\n",
              "      <th>1</th>\n",
              "      <td>7</td>\n",
              "      <td>Random Forest Classifier w/ Imputer</td>\n",
              "      <td>0.992482</td>\n",
              "      <td>0.994367</td>\n",
              "      <td>49.248175</td>\n",
              "      <td>False</td>\n",
              "      <td>{'Imputer': {'categorical_impute_strategy': 'm...</td>\n",
              "    </tr>\n",
              "    <tr>\n",
              "      <th>2</th>\n",
              "      <td>8</td>\n",
              "      <td>Logistic Regression Classifier w/ Imputer + St...</td>\n",
              "      <td>0.991342</td>\n",
              "      <td>0.996676</td>\n",
              "      <td>49.134239</td>\n",
              "      <td>False</td>\n",
              "      <td>{'Imputer': {'categorical_impute_strategy': 'm...</td>\n",
              "    </tr>\n",
              "    <tr>\n",
              "      <th>3</th>\n",
              "      <td>5</td>\n",
              "      <td>CatBoost Classifier w/ Imputer</td>\n",
              "      <td>0.991305</td>\n",
              "      <td>0.993906</td>\n",
              "      <td>49.130502</td>\n",
              "      <td>False</td>\n",
              "      <td>{'Imputer': {'categorical_impute_strategy': 'm...</td>\n",
              "    </tr>\n",
              "    <tr>\n",
              "      <th>4</th>\n",
              "      <td>6</td>\n",
              "      <td>XGBoost Classifier w/ Imputer</td>\n",
              "      <td>0.991265</td>\n",
              "      <td>0.995568</td>\n",
              "      <td>49.126544</td>\n",
              "      <td>False</td>\n",
              "      <td>{'Imputer': {'categorical_impute_strategy': 'm...</td>\n",
              "    </tr>\n",
              "    <tr>\n",
              "      <th>5</th>\n",
              "      <td>2</td>\n",
              "      <td>LightGBM Classifier w/ Imputer</td>\n",
              "      <td>0.990700</td>\n",
              "      <td>0.991505</td>\n",
              "      <td>49.070044</td>\n",
              "      <td>False</td>\n",
              "      <td>{'Imputer': {'categorical_impute_strategy': 'm...</td>\n",
              "    </tr>\n",
              "    <tr>\n",
              "      <th>6</th>\n",
              "      <td>4</td>\n",
              "      <td>Elastic Net Classifier w/ Imputer + Standard S...</td>\n",
              "      <td>0.984943</td>\n",
              "      <td>0.996861</td>\n",
              "      <td>48.494262</td>\n",
              "      <td>False</td>\n",
              "      <td>{'Imputer': {'categorical_impute_strategy': 'm...</td>\n",
              "    </tr>\n",
              "    <tr>\n",
              "      <th>7</th>\n",
              "      <td>1</td>\n",
              "      <td>Decision Tree Classifier w/ Imputer</td>\n",
              "      <td>0.923371</td>\n",
              "      <td>0.919298</td>\n",
              "      <td>42.337093</td>\n",
              "      <td>False</td>\n",
              "      <td>{'Imputer': {'categorical_impute_strategy': 'm...</td>\n",
              "    </tr>\n",
              "    <tr>\n",
              "      <th>8</th>\n",
              "      <td>0</td>\n",
              "      <td>Mode Baseline Binary Classification Pipeline</td>\n",
              "      <td>0.500000</td>\n",
              "      <td>0.500000</td>\n",
              "      <td>0.000000</td>\n",
              "      <td>False</td>\n",
              "      <td>{'Baseline Classifier': {'strategy': 'mode'}}</td>\n",
              "    </tr>\n",
              "  </tbody>\n",
              "</table>\n",
              "</div>"
            ],
            "text/plain": [
              "   id  ...                                         parameters\n",
              "0   3  ...  {'Imputer': {'categorical_impute_strategy': 'm...\n",
              "1   7  ...  {'Imputer': {'categorical_impute_strategy': 'm...\n",
              "2   8  ...  {'Imputer': {'categorical_impute_strategy': 'm...\n",
              "3   5  ...  {'Imputer': {'categorical_impute_strategy': 'm...\n",
              "4   6  ...  {'Imputer': {'categorical_impute_strategy': 'm...\n",
              "5   2  ...  {'Imputer': {'categorical_impute_strategy': 'm...\n",
              "6   4  ...  {'Imputer': {'categorical_impute_strategy': 'm...\n",
              "7   1  ...  {'Imputer': {'categorical_impute_strategy': 'm...\n",
              "8   0  ...      {'Baseline Classifier': {'strategy': 'mode'}}\n",
              "\n",
              "[9 rows x 7 columns]"
            ]
          },
          "metadata": {
            "tags": []
          },
          "execution_count": 12
        }
      ]
    },
    {
      "cell_type": "code",
      "metadata": {
        "id": "-AhaW29BqURz",
        "colab": {
          "base_uri": "https://localhost:8080/"
        },
        "outputId": "af37e88c-0e6f-4cfc-9be0-ed0b43572c34"
      },
      "source": [
        "automl_auc.describe_pipeline(automl_auc.rankings.iloc[0][\"id\"])"
      ],
      "execution_count": 13,
      "outputs": [
        {
          "output_type": "stream",
          "text": [
            "*************************************\n",
            "* Extra Trees Classifier w/ Imputer *\n",
            "*************************************\n",
            "\n",
            "Problem Type: binary\n",
            "Model Family: Extra Trees\n",
            "\n",
            "Pipeline Steps\n",
            "==============\n",
            "1. Imputer\n",
            "\t * categorical_impute_strategy : most_frequent\n",
            "\t * numeric_impute_strategy : mean\n",
            "\t * categorical_fill_value : None\n",
            "\t * numeric_fill_value : None\n",
            "2. Extra Trees Classifier\n",
            "\t * n_estimators : 100\n",
            "\t * max_features : auto\n",
            "\t * max_depth : 6\n",
            "\t * min_samples_split : 2\n",
            "\t * min_weight_fraction_leaf : 0.0\n",
            "\t * n_jobs : -1\n",
            "\n",
            "Training\n",
            "========\n",
            "Training for binary problems.\n",
            "Total training time (including CV): 2.2 seconds\n",
            "\n",
            "Cross Validation\n",
            "----------------\n",
            "              AUC    F1  Precision # Training # Validation\n",
            "0           0.996 0.964      0.982    303.000      152.000\n",
            "1           0.994 0.914      1.000    303.000      152.000\n",
            "2           0.988 0.927      0.944    304.000      151.000\n",
            "mean        0.993 0.935      0.975          -            -\n",
            "std         0.004 0.026      0.028          -            -\n",
            "coef of var 0.004 0.028      0.029          -            -\n"
          ],
          "name": "stdout"
        }
      ]
    },
    {
      "cell_type": "code",
      "metadata": {
        "id": "LcNw_AUvqUR0"
      },
      "source": [
        "best_pipeline_auc = automl_auc.best_pipeline"
      ],
      "execution_count": 14,
      "outputs": []
    },
    {
      "cell_type": "code",
      "metadata": {
        "id": "A9_IgcNJqUR1",
        "colab": {
          "base_uri": "https://localhost:8080/"
        },
        "outputId": "84383b21-10a4-4485-bb2b-8126185441b8"
      },
      "source": [
        "# get the score on holdout data\n",
        "best_pipeline_auc.score(X_test, y_test,  objectives=[\"auc\"])"
      ],
      "execution_count": 15,
      "outputs": [
        {
          "output_type": "execute_result",
          "data": {
            "text/plain": [
              "OrderedDict([('AUC', 0.986111111111111)])"
            ]
          },
          "metadata": {
            "tags": []
          },
          "execution_count": 15
        }
      ]
    },
    {
      "cell_type": "code",
      "metadata": {
        "id": "n2xmdgjrqUR2"
      },
      "source": [
        "best_pipeline.save(\"model.pkl\")"
      ],
      "execution_count": 16,
      "outputs": []
    },
    {
      "cell_type": "markdown",
      "metadata": {
        "id": "davSIGsPqUR3"
      },
      "source": [
        "#### Loading the Model"
      ]
    },
    {
      "cell_type": "code",
      "metadata": {
        "id": "tpIdCz2WqUR3"
      },
      "source": [
        "check_model=automl.load('model.pkl')"
      ],
      "execution_count": 17,
      "outputs": []
    },
    {
      "cell_type": "code",
      "metadata": {
        "id": "95PIli2kqUR4",
        "colab": {
          "base_uri": "https://localhost:8080/",
          "height": 419
        },
        "outputId": "f4cd4ac9-b635-47ba-cc5e-d37a4f7cd9a3"
      },
      "source": [
        "check_model.predict_proba(X_test).to_dataframe()"
      ],
      "execution_count": 18,
      "outputs": [
        {
          "output_type": "execute_result",
          "data": {
            "text/html": [
              "<div>\n",
              "<style scoped>\n",
              "    .dataframe tbody tr th:only-of-type {\n",
              "        vertical-align: middle;\n",
              "    }\n",
              "\n",
              "    .dataframe tbody tr th {\n",
              "        vertical-align: top;\n",
              "    }\n",
              "\n",
              "    .dataframe thead th {\n",
              "        text-align: right;\n",
              "    }\n",
              "</style>\n",
              "<table border=\"1\" class=\"dataframe\">\n",
              "  <thead>\n",
              "    <tr style=\"text-align: right;\">\n",
              "      <th></th>\n",
              "      <th>benign</th>\n",
              "      <th>malignant</th>\n",
              "    </tr>\n",
              "  </thead>\n",
              "  <tbody>\n",
              "    <tr>\n",
              "      <th>0</th>\n",
              "      <td>9.996252e-01</td>\n",
              "      <td>0.000375</td>\n",
              "    </tr>\n",
              "    <tr>\n",
              "      <th>1</th>\n",
              "      <td>9.845724e-01</td>\n",
              "      <td>0.015428</td>\n",
              "    </tr>\n",
              "    <tr>\n",
              "      <th>2</th>\n",
              "      <td>7.749595e-01</td>\n",
              "      <td>0.225040</td>\n",
              "    </tr>\n",
              "    <tr>\n",
              "      <th>3</th>\n",
              "      <td>9.907312e-01</td>\n",
              "      <td>0.009269</td>\n",
              "    </tr>\n",
              "    <tr>\n",
              "      <th>4</th>\n",
              "      <td>9.998272e-01</td>\n",
              "      <td>0.000173</td>\n",
              "    </tr>\n",
              "    <tr>\n",
              "      <th>...</th>\n",
              "      <td>...</td>\n",
              "      <td>...</td>\n",
              "    </tr>\n",
              "    <tr>\n",
              "      <th>109</th>\n",
              "      <td>9.990961e-01</td>\n",
              "      <td>0.000904</td>\n",
              "    </tr>\n",
              "    <tr>\n",
              "      <th>110</th>\n",
              "      <td>7.981366e-01</td>\n",
              "      <td>0.201863</td>\n",
              "    </tr>\n",
              "    <tr>\n",
              "      <th>111</th>\n",
              "      <td>9.999924e-01</td>\n",
              "      <td>0.000008</td>\n",
              "    </tr>\n",
              "    <tr>\n",
              "      <th>112</th>\n",
              "      <td>1.082727e-08</td>\n",
              "      <td>1.000000</td>\n",
              "    </tr>\n",
              "    <tr>\n",
              "      <th>113</th>\n",
              "      <td>9.999267e-01</td>\n",
              "      <td>0.000073</td>\n",
              "    </tr>\n",
              "  </tbody>\n",
              "</table>\n",
              "<p>114 rows × 2 columns</p>\n",
              "</div>"
            ],
            "text/plain": [
              "           benign  malignant\n",
              "0    9.996252e-01   0.000375\n",
              "1    9.845724e-01   0.015428\n",
              "2    7.749595e-01   0.225040\n",
              "3    9.907312e-01   0.009269\n",
              "4    9.998272e-01   0.000173\n",
              "..            ...        ...\n",
              "109  9.990961e-01   0.000904\n",
              "110  7.981366e-01   0.201863\n",
              "111  9.999924e-01   0.000008\n",
              "112  1.082727e-08   1.000000\n",
              "113  9.999267e-01   0.000073\n",
              "\n",
              "[114 rows x 2 columns]"
            ]
          },
          "metadata": {
            "tags": []
          },
          "execution_count": 18
        }
      ]
    },
    {
      "cell_type": "markdown",
      "metadata": {
        "id": "JnsHfLbRtIKb"
      },
      "source": [
        "-------------------------------------"
      ]
    }
  ]
}
